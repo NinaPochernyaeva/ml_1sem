{
  "nbformat": 4,
  "nbformat_minor": 0,
  "metadata": {
    "accelerator": "GPU",
    "anaconda-cloud": {},
    "colab": {
      "name": "моя_ч3.ipynb",
      "provenance": [],
      "collapsed_sections": []
    },
    "kernelspec": {
      "display_name": "Python 3",
      "language": "python",
      "name": "python3"
    },
    "language_info": {
      "codemirror_mode": {
        "name": "ipython",
        "version": 3
      },
      "file_extension": ".py",
      "mimetype": "text/x-python",
      "name": "python",
      "nbconvert_exporter": "python",
      "pygments_lexer": "ipython3",
      "version": "3.8.5"
    }
  },
  "cells": [
    {
      "cell_type": "markdown",
      "metadata": {
        "id": "aMhHRbspIWUu"
      },
      "source": [
        "## Lab 2"
      ]
    },
    {
      "cell_type": "markdown",
      "metadata": {
        "id": "Eb7GTXzTIWU3"
      },
      "source": [
        "### Part 3. Poetry generation\n",
        "\n",
        "Let's try to generate some poetry using RNNs. \n",
        "\n",
        "You have several choices here: \n",
        "\n",
        "* The Shakespeare sonnets, file `sonnets.txt` available in the notebook directory.\n",
        "\n",
        "* Роман в стихах \"Евгений Онегин\" Александра Сергеевича Пушкина. В предобработанном виде доступен по [ссылке](https://github.com/attatrol/data_sources/blob/master/onegin.txt).\n",
        "\n",
        "* Some other text source, if it will be approved by the course staff.\n",
        "\n",
        "Text generation can be designed in several steps:\n",
        "    \n",
        "1. Data loading.\n",
        "2. Dictionary generation.\n",
        "3. Data preprocessing.\n",
        "4. Model (neural network) training.\n",
        "5. Text generation (model evaluation).\n"
      ]
    },
    {
      "cell_type": "code",
      "metadata": {
        "id": "ZSNUZnbNIWU4"
      },
      "source": [
        "import string\n",
        "import os"
      ],
      "execution_count": 1,
      "outputs": []
    },
    {
      "cell_type": "markdown",
      "metadata": {
        "id": "hEhRlYk1IWU5"
      },
      "source": [
        "### Data loading: Shakespeare"
      ]
    },
    {
      "cell_type": "markdown",
      "metadata": {
        "id": "KoOPeSbeIWU5"
      },
      "source": [
        "Shakespeare sonnets are awailable at this [link](http://www.gutenberg.org/ebooks/1041?msg=welcome_stranger). In addition, they are stored in the same directory as this notebook (`sonnetes.txt`). Simple preprocessing is already done for you in the next cell: all technical info is dropped."
      ]
    },
    {
      "cell_type": "code",
      "metadata": {
        "id": "FJ1dTNGtIWU6",
        "colab": {
          "base_uri": "https://localhost:8080/"
        },
        "outputId": "5584689e-da13-4ae6-93dc-25d33bb38c44"
      },
      "source": [
        "if not os.path.exists('sonnets.txt'):\n",
        "    !wget https://raw.githubusercontent.com/girafe-ai/ml-mipt/master/homeworks_basic/Lab2_DL/sonnets.txt\n",
        "\n",
        "with open('sonnets.txt', 'r') as iofile:\n",
        "    text = iofile.readlines()\n",
        "    \n",
        "TEXT_START = 45\n",
        "TEXT_END = -368\n",
        "text = text[TEXT_START : TEXT_END]\n",
        "assert len(text) == 2616"
      ],
      "execution_count": 2,
      "outputs": [
        {
          "output_type": "stream",
          "text": [
            "--2020-12-15 19:40:39--  https://raw.githubusercontent.com/girafe-ai/ml-mipt/master/homeworks_basic/Lab2_DL/sonnets.txt\n",
            "Resolving raw.githubusercontent.com (raw.githubusercontent.com)... 151.101.0.133, 151.101.64.133, 151.101.128.133, ...\n",
            "Connecting to raw.githubusercontent.com (raw.githubusercontent.com)|151.101.0.133|:443... connected.\n",
            "HTTP request sent, awaiting response... 200 OK\n",
            "Length: 119748 (117K) [text/plain]\n",
            "Saving to: ‘sonnets.txt’\n",
            "\n",
            "sonnets.txt         100%[===================>] 116.94K  --.-KB/s    in 0.01s   \n",
            "\n",
            "2020-12-15 19:40:39 (8.84 MB/s) - ‘sonnets.txt’ saved [119748/119748]\n",
            "\n"
          ],
          "name": "stdout"
        }
      ]
    },
    {
      "cell_type": "markdown",
      "metadata": {
        "id": "DTN8zxlcIWU6"
      },
      "source": [
        "In opposite to the in-class practice, this time we want to predict complex text. Let's reduce the complexity of the task and lowercase all the symbols.\n",
        "\n",
        "Now variable `text` is a list of strings. Join all the strings into one and lowercase it."
      ]
    },
    {
      "cell_type": "code",
      "metadata": {
        "colab": {
          "base_uri": "https://localhost:8080/"
        },
        "id": "5VTx-MIFIWU7",
        "outputId": "70e8ed05-7e74-4f2d-bd9b-c37e7aef621f"
      },
      "source": [
        "# Join all the strings into one and lowercase it\n",
        "# Put result into variable text.\n",
        "\n",
        "import string \n",
        "import numpy as np\n",
        "\n",
        "tmp = '';\n",
        "for st in text:\n",
        "  tmp += st\n",
        "text = tmp.lower()\n",
        "\n",
        "assert len(text) == 100225, 'Are you sure you have concatenated all the strings?'\n",
        "assert not any([x in set(text) for x in string.ascii_uppercase]), 'Uppercase letters are present'\n",
        "print('OK!')"
      ],
      "execution_count": 3,
      "outputs": [
        {
          "output_type": "stream",
          "text": [
            "OK!\n"
          ],
          "name": "stdout"
        }
      ]
    },
    {
      "cell_type": "markdown",
      "metadata": {
        "id": "CHbSlJsHIWU-"
      },
      "source": [
        "Put all the characters, that you've seen in the text, into variable `tokens`."
      ]
    },
    {
      "cell_type": "code",
      "metadata": {
        "id": "l3yVvjm7IWU-"
      },
      "source": [
        "tokens = sorted(set(text))"
      ],
      "execution_count": 4,
      "outputs": []
    },
    {
      "cell_type": "markdown",
      "metadata": {
        "id": "KZBkypmBIWU_"
      },
      "source": [
        "Create dictionary `token_to_idx = {<char>: <index>}` and dictionary `idx_to_token = {<index>: <char>}`"
      ]
    },
    {
      "cell_type": "code",
      "metadata": {
        "collapsed": true,
        "id": "d9N4Bm73IWU_",
        "jupyter": {
          "outputs_hidden": true
        }
      },
      "source": [
        "# dict <index>:<char>\n",
        "token_to_idx = {t:i for i, t in enumerate(tokens)}\n",
        "\n",
        "# dict <char>:<index>\n",
        "idx_to_token = {i:t for i, t in enumerate(tokens)}"
      ],
      "execution_count": 5,
      "outputs": []
    },
    {
      "cell_type": "code",
      "metadata": {
        "id": "vBEYnQXpOGns"
      },
      "source": [
        "enc_text = np.array([token_to_idx[ch] for ch in text])"
      ],
      "execution_count": 7,
      "outputs": []
    },
    {
      "cell_type": "markdown",
      "metadata": {
        "id": "skx6O9ZLIWVB"
      },
      "source": [
        "*Comment: in this task we have only 38 different tokens, so let's use one-hot encoding.*"
      ]
    },
    {
      "cell_type": "code",
      "metadata": {
        "id": "_OIchMQrrcAL"
      },
      "source": [
        "def to_one_hot(idxes, n_labels):\n",
        "    one_hot = np.zeros((np.multiply(*idxes.shape), n_labels), dtype=np.float32)\n",
        "    one_hot[np.arange(one_hot.shape[0]), idxes.flatten()] = 1.0\n",
        "    one_hot = one_hot.reshape((*idxes.shape, n_labels))\n",
        "    \n",
        "    return one_hot"
      ],
      "execution_count": 8,
      "outputs": []
    },
    {
      "cell_type": "code",
      "metadata": {
        "id": "5HLUj9_nbcYt"
      },
      "source": [
        "def get_batches(arr, batch_size, seq_length):\n",
        "    batch_size_total = batch_size * seq_length\n",
        "\n",
        "    n_batches = len(arr)//batch_size_total\n",
        "    \n",
        "    assert n_batches > 0, \"Array is too small: %r, while total batch size is %r\" % (len(arr), batch_size_total)\n",
        "    \n",
        "    # Throwing away extra chars\n",
        "    arr = arr[:n_batches * batch_size_total]\n",
        "    arr = arr.reshape((batch_size, -1))\n",
        "    \n",
        "    for n in range(0, arr.shape[1], seq_length):\n",
        "        x = arr[:, n:n+seq_length]\n",
        "\n",
        "        y = np.zeros_like(x)\n",
        "        #shifting by one char\n",
        "        try:\n",
        "            y[:, :-1], y[:, -1] = x[:, 1:], arr[:, n+seq_length]\n",
        "        except IndexError:\n",
        "            y[:, :-1], y[:, -1] = x[:, 1:], arr[:, 0]\n",
        "        yield x, y"
      ],
      "execution_count": 9,
      "outputs": []
    },
    {
      "cell_type": "code",
      "metadata": {
        "id": "qOwi5LOzbgie"
      },
      "source": [
        " def plot_loss(loss_avg):\n",
        "    clear_output(True)\n",
        "    plt.plot(loss_avg,label='loss')\n",
        "    plt.legend()\n",
        "    plt.show()"
      ],
      "execution_count": 10,
      "outputs": []
    },
    {
      "cell_type": "markdown",
      "metadata": {
        "id": "ysZ8YZrbIWVC"
      },
      "source": [
        "### Building the model"
      ]
    },
    {
      "cell_type": "markdown",
      "metadata": {
        "id": "2y2y3xEqIWVC"
      },
      "source": [
        "Now we want to build and train recurrent neural net which would be able to something similar to Shakespeare's poetry.\n",
        "\n",
        "Let's use vanilla RNN, similar to the one created during the lesson."
      ]
    },
    {
      "cell_type": "code",
      "metadata": {
        "collapsed": true,
        "id": "y3xDgjLbIWVD",
        "jupyter": {
          "outputs_hidden": true
        }
      },
      "source": [
        "import torch, torch.nn as nn\n",
        "import torch.nn.functional as F\n",
        "\n",
        "class VanillaRNN(nn.Module):\n",
        "   \n",
        "    def __init__(self, num_tokens=len(tokens), tokens = tokens, hidden_num = 512, layer_num = 1, drop_prob = 0.5):\n",
        "        super(self.__class__,self).__init__()\n",
        "        self.num_layers = layer_num\n",
        "        self.tokens = tokens\n",
        "        self.h_num = hidden_num\n",
        "        self.rnn_update = nn.RNN(len(tokens), hidden_num, batch_first = True, bidirectional = False)\n",
        "        self.dropout = nn.Dropout(p = drop_prob, inplace = False)\n",
        "        self.final = nn.Linear(hidden_num, len(tokens))\n",
        "        \n",
        "    def forward(self, x, h_prev):\n",
        "      \n",
        "        r_out, h_next = self.rnn_update(x, h_prev)\n",
        "        r_out = self.dropout(r_out)\n",
        "        r_out = r_out.contiguous().view(-1, self.h_num)\n",
        "        r_out = self.final(r_out)\n",
        "    \n",
        "        return r_out, h_next\n",
        "    def initial_state(self, batch_size):\n",
        "        weight = next(self.parameters()).data\n",
        "\n",
        "        hidden = weight.new(self.num_layers, batch_size, self.h_num).zero_()\n",
        "        return hidden"
      ],
      "execution_count": 11,
      "outputs": []
    },
    {
      "cell_type": "code",
      "metadata": {
        "id": "aLAcHPLWM7PG"
      },
      "source": [
        "def train(model, data, num_epochs = 10, batch_size = 64, seq_length = 60, l_rate = 0.002, val_frac = 0.2):\n",
        "  model.train()\n",
        "  \n",
        "  opt = torch.optim.Adam(model.parameters(), lr = l_rate)\n",
        "  loss = nn.CrossEntropyLoss()\n",
        "  val_idx = int(len(data)*(1-val_frac))\n",
        "  train_data, val_data = data[:val_idx], data[val_idx:]\n",
        "  \n",
        "  model.cuda()\n",
        "  \n",
        "  total_train_loss = []\n",
        "  total_val_loss = []\n",
        "  for epoch in range(num_epochs):\n",
        "    train_losses = []\n",
        "    val_losses = []\n",
        "    model.train()\n",
        "    for x, y in get_batches(train_data, batch_size, seq_length):\n",
        "      h = model.initial_state(batch_size)\n",
        "      x = to_one_hot(x, len(tokens))\n",
        "      inp, target = torch.FloatTensor(x), torch.FloatTensor(y)\n",
        "      inp, target = inp.cuda(), target.cuda()\n",
        "      \n",
        "      model.zero_grad()\n",
        "      outp, h = model(inp, h)\n",
        "      train_loss = loss(outp, target.view(batch_size*seq_length).long())\n",
        "      train_loss.backward()\n",
        "      train_losses.append(train_loss.item())\n",
        "      opt.step()\n",
        "    model.eval()\n",
        "\n",
        "    for x, y in get_batches(val_data, batch_size, seq_length):\n",
        "      h = model.initial_state(batch_size)\n",
        "      x = to_one_hot(x, len(tokens))\n",
        "      inp, target = torch.FloatTensor(x), torch.FloatTensor(y)\n",
        "      inp, target = inp.cuda(), target.cuda()\n",
        "      \n",
        "      outp, h = model(inp, h)\n",
        "      v_loss = loss(outp, target.view(batch_size*seq_length).long())\n",
        "      val_losses.append(v_loss.item())\n",
        "\n",
        "    total_train_loss.append(np.mean(train_losses))\n",
        "    total_val_loss.append(np.mean(val_losses))\n",
        "    print(\"Epoch # {:d}\".format(epoch),\n",
        "          \"Train loss is {:.4f}\".format(total_train_loss[-1]),\n",
        "          \"Validation loss is {:.4f}\".format(total_val_loss[-1]))\n",
        "  return total_train_loss, total_val_loss"
      ],
      "execution_count": 12,
      "outputs": []
    },
    {
      "cell_type": "markdown",
      "metadata": {
        "id": "mlqfqjXXIWVD"
      },
      "source": [
        "Plot the loss function (axis X: number of epochs, axis Y: loss function)."
      ]
    },
    {
      "cell_type": "code",
      "metadata": {
        "id": "APQkH5eHPCDD",
        "colab": {
          "base_uri": "https://localhost:8080/"
        },
        "outputId": "a3395b99-87a8-4fe2-b611-e0a0a8314dd3"
      },
      "source": [
        "device = torch.device('cuda') if torch.cuda.is_available() else torch.device('cpu')\n",
        "model = VanillaRNN(tokens)\n",
        "model.to(device)\n",
        "print(model)\n",
        "\n",
        "batch_size = 128\n",
        "seq_length = 120\n",
        "n_epochs = 100 \n",
        "\n",
        "train_losses, val_losses = train(model, enc_text, num_epochs=n_epochs, batch_size=batch_size, seq_length=seq_length, l_rate=0.002)\n"
      ],
      "execution_count": 13,
      "outputs": [
        {
          "output_type": "stream",
          "text": [
            "VanillaRNN(\n",
            "  (rnn_update): RNN(38, 512, batch_first=True)\n",
            "  (dropout): Dropout(p=0.5, inplace=False)\n",
            "  (final): Linear(in_features=512, out_features=38, bias=True)\n",
            ")\n",
            "Epoch # 0 Train loss is 3.3390 Validation loss is 3.0251\n",
            "Epoch # 1 Train loss is 3.0001 Validation loss is 2.9465\n",
            "Epoch # 2 Train loss is 2.9394 Validation loss is 2.8927\n",
            "Epoch # 3 Train loss is 2.8837 Validation loss is 2.8380\n",
            "Epoch # 4 Train loss is 2.8148 Validation loss is 2.7673\n",
            "Epoch # 5 Train loss is 2.8155 Validation loss is 2.8258\n",
            "Epoch # 6 Train loss is 2.8725 Validation loss is 2.7427\n",
            "Epoch # 7 Train loss is 2.7213 Validation loss is 2.7591\n",
            "Epoch # 8 Train loss is 2.7315 Validation loss is 2.6559\n",
            "Epoch # 9 Train loss is 2.6328 Validation loss is 2.5821\n",
            "Epoch # 10 Train loss is 2.5662 Validation loss is 2.5138\n",
            "Epoch # 11 Train loss is 2.5065 Validation loss is 2.4569\n",
            "Epoch # 12 Train loss is 2.4457 Validation loss is 2.4080\n",
            "Epoch # 13 Train loss is 2.3960 Validation loss is 2.3570\n",
            "Epoch # 14 Train loss is 2.3470 Validation loss is 2.3144\n",
            "Epoch # 15 Train loss is 2.3224 Validation loss is 2.3025\n",
            "Epoch # 16 Train loss is 2.2936 Validation loss is 2.2716\n",
            "Epoch # 17 Train loss is 2.2620 Validation loss is 2.2406\n",
            "Epoch # 18 Train loss is 2.2319 Validation loss is 2.2166\n",
            "Epoch # 19 Train loss is 2.2058 Validation loss is 2.1958\n",
            "Epoch # 20 Train loss is 2.1862 Validation loss is 2.1864\n",
            "Epoch # 21 Train loss is 2.1719 Validation loss is 2.1670\n",
            "Epoch # 22 Train loss is 2.1548 Validation loss is 2.1905\n",
            "Epoch # 23 Train loss is 2.1575 Validation loss is 2.1535\n",
            "Epoch # 24 Train loss is 2.1378 Validation loss is 2.1492\n",
            "Epoch # 25 Train loss is 2.1441 Validation loss is 2.1503\n",
            "Epoch # 26 Train loss is 2.1300 Validation loss is 2.1311\n",
            "Epoch # 27 Train loss is 2.1128 Validation loss is 2.1205\n",
            "Epoch # 28 Train loss is 2.1027 Validation loss is 2.1107\n",
            "Epoch # 29 Train loss is 2.0945 Validation loss is 2.1033\n",
            "Epoch # 30 Train loss is 2.0844 Validation loss is 2.1002\n",
            "Epoch # 31 Train loss is 2.0807 Validation loss is 2.1035\n",
            "Epoch # 32 Train loss is 2.0801 Validation loss is 2.0968\n",
            "Epoch # 33 Train loss is 2.0710 Validation loss is 2.0907\n",
            "Epoch # 34 Train loss is 2.0658 Validation loss is 2.0836\n",
            "Epoch # 35 Train loss is 2.0687 Validation loss is 2.1018\n",
            "Epoch # 36 Train loss is 2.0737 Validation loss is 2.0906\n",
            "Epoch # 37 Train loss is 2.0625 Validation loss is 2.0856\n",
            "Epoch # 38 Train loss is 2.0545 Validation loss is 2.0773\n",
            "Epoch # 39 Train loss is 2.0477 Validation loss is 2.0741\n",
            "Epoch # 40 Train loss is 2.0421 Validation loss is 2.0697\n",
            "Epoch # 41 Train loss is 2.0375 Validation loss is 2.0670\n",
            "Epoch # 42 Train loss is 2.0321 Validation loss is 2.0667\n",
            "Epoch # 43 Train loss is 2.0289 Validation loss is 2.0775\n",
            "Epoch # 44 Train loss is 2.0522 Validation loss is 2.0852\n",
            "Epoch # 45 Train loss is 2.0425 Validation loss is 2.0702\n",
            "Epoch # 46 Train loss is 2.0337 Validation loss is 2.0650\n",
            "Epoch # 47 Train loss is 2.0285 Validation loss is 2.0651\n",
            "Epoch # 48 Train loss is 2.0229 Validation loss is 2.0580\n",
            "Epoch # 49 Train loss is 2.0166 Validation loss is 2.0509\n",
            "Epoch # 50 Train loss is 2.0126 Validation loss is 2.0508\n",
            "Epoch # 51 Train loss is 2.0163 Validation loss is 2.0689\n",
            "Epoch # 52 Train loss is 2.0177 Validation loss is 2.0599\n",
            "Epoch # 53 Train loss is 2.0105 Validation loss is 2.0486\n",
            "Epoch # 54 Train loss is 2.0029 Validation loss is 2.0478\n",
            "Epoch # 55 Train loss is 1.9984 Validation loss is 2.0450\n",
            "Epoch # 56 Train loss is 1.9953 Validation loss is 2.0379\n",
            "Epoch # 57 Train loss is 1.9895 Validation loss is 2.0856\n",
            "Epoch # 58 Train loss is 2.0663 Validation loss is 2.1065\n",
            "Epoch # 59 Train loss is 2.0482 Validation loss is 2.0706\n",
            "Epoch # 60 Train loss is 2.0191 Validation loss is 2.0598\n",
            "Epoch # 61 Train loss is 2.0036 Validation loss is 2.0467\n",
            "Epoch # 62 Train loss is 1.9942 Validation loss is 2.0416\n",
            "Epoch # 63 Train loss is 1.9853 Validation loss is 2.0357\n",
            "Epoch # 64 Train loss is 1.9779 Validation loss is 2.0322\n",
            "Epoch # 65 Train loss is 1.9765 Validation loss is 2.0276\n",
            "Epoch # 66 Train loss is 1.9693 Validation loss is 2.0304\n",
            "Epoch # 67 Train loss is 1.9722 Validation loss is 2.0238\n",
            "Epoch # 68 Train loss is 1.9630 Validation loss is 2.0251\n",
            "Epoch # 69 Train loss is 1.9611 Validation loss is 2.0199\n",
            "Epoch # 70 Train loss is 1.9521 Validation loss is 2.0196\n",
            "Epoch # 71 Train loss is 2.0430 Validation loss is 2.1154\n",
            "Epoch # 72 Train loss is 2.0292 Validation loss is 2.0670\n",
            "Epoch # 73 Train loss is 2.0029 Validation loss is 2.0400\n",
            "Epoch # 74 Train loss is 1.9845 Validation loss is 2.0360\n",
            "Epoch # 75 Train loss is 1.9714 Validation loss is 2.0275\n",
            "Epoch # 76 Train loss is 1.9582 Validation loss is 2.0229\n",
            "Epoch # 77 Train loss is 1.9501 Validation loss is 2.0165\n",
            "Epoch # 78 Train loss is 1.9433 Validation loss is 2.0120\n",
            "Epoch # 79 Train loss is 1.9369 Validation loss is 2.0084\n",
            "Epoch # 80 Train loss is 1.9299 Validation loss is 2.0028\n",
            "Epoch # 81 Train loss is 1.9307 Validation loss is 2.0013\n",
            "Epoch # 82 Train loss is 1.9241 Validation loss is 2.0045\n",
            "Epoch # 83 Train loss is 1.9211 Validation loss is 1.9986\n",
            "Epoch # 84 Train loss is 1.9122 Validation loss is 1.9950\n",
            "Epoch # 85 Train loss is 1.9231 Validation loss is 2.0178\n",
            "Epoch # 86 Train loss is 1.9229 Validation loss is 2.0098\n",
            "Epoch # 87 Train loss is 1.9135 Validation loss is 2.0017\n",
            "Epoch # 88 Train loss is 1.9038 Validation loss is 1.9992\n",
            "Epoch # 89 Train loss is 1.9020 Validation loss is 1.9953\n",
            "Epoch # 90 Train loss is 1.8952 Validation loss is 1.9967\n",
            "Epoch # 91 Train loss is 1.8886 Validation loss is 1.9919\n",
            "Epoch # 92 Train loss is 1.8828 Validation loss is 1.9900\n",
            "Epoch # 93 Train loss is 1.8789 Validation loss is 1.9923\n",
            "Epoch # 94 Train loss is 1.8881 Validation loss is 1.9973\n",
            "Epoch # 95 Train loss is 1.8795 Validation loss is 1.9968\n",
            "Epoch # 96 Train loss is 1.8701 Validation loss is 1.9929\n",
            "Epoch # 97 Train loss is 1.8639 Validation loss is 1.9896\n",
            "Epoch # 98 Train loss is 1.8571 Validation loss is 1.9860\n",
            "Epoch # 99 Train loss is 1.8539 Validation loss is 1.9845\n"
          ],
          "name": "stdout"
        }
      ]
    },
    {
      "cell_type": "code",
      "metadata": {
        "colab": {
          "base_uri": "https://localhost:8080/",
          "height": 389
        },
        "collapsed": true,
        "id": "AuVCpGQbIWVD",
        "jupyter": {
          "outputs_hidden": true
        },
        "outputId": "e8cec4a9-d691-43ca-ce5f-1add868cba04"
      },
      "source": [
        "from matplotlib import pyplot as plt\n",
        "\n",
        "plt.figure(4, figsize = (8, 6))\n",
        "_plot = plt.plot(np.linspace(1,n_epochs-1,n_epochs), train_losses, np.linspace(1,n_epochs-1,n_epochs), val_losses)\n",
        "plt.legend(_plot, (\"train loss\", \"validation loss\"))\n",
        "plt.title(\"RNN train and validation losses\")\n",
        "plt.grid()"
      ],
      "execution_count": 14,
      "outputs": [
        {
          "output_type": "display_data",
          "data": {
            "image/png": "[encoded data removed]",
            "text/plain": [
              "<Figure size 576x432 with 1 Axes>"
            ]
          },
          "metadata": {
            "tags": [],
            "needs_background": "light"
          }
        }
      ]
    },
    {
      "cell_type": "code",
      "metadata": {
        "id": "z3mNRy_o72Mv"
      },
      "source": [
        "def get_char(model, char, h = None, temperature=1.0):\n",
        "  x = np.array([[token_to_idx[char]]])\n",
        "  x = to_one_hot(x, len(model.tokens))\n",
        "  inp = torch.FloatTensor(x)\n",
        "  inp = inp.cuda()\n",
        "\n",
        "  out, h = model(inp, h)\n",
        "  \n",
        "  p = F.softmax(out/temperature, dim=1).data\n",
        "  p = p.cpu() \n",
        "  \n",
        "  top_ch = np.arange(len(model.tokens))\n",
        "  p = p.numpy().squeeze()\n",
        "  char = np.random.choice(top_ch, p=p/p.sum())\n",
        "  \n",
        "  return idx_to_token[char], h"
      ],
      "execution_count": 15,
      "outputs": []
    },
    {
      "cell_type": "code",
      "metadata": {
        "id": "EWCwWgrRIWVE"
      },
      "source": [
        "def generate_sample(max_length, model, seed_phrase=' ', temperature=1.0, h = None):\n",
        "    '''\n",
        "    ### Disclaimer: this is an example function for text generation.\n",
        "    ### You can either adapt it in your code or create your own function\n",
        "    \n",
        "    The function generates text given a phrase of length at least SEQ_LENGTH.\n",
        "    :param seed_phrase: prefix characters. The RNN is asked to continue the phrase\n",
        "    :param max_length: maximum output length, including seed_phrase\n",
        "    :param temperature: coefficient for sampling.  higher temperature produces more chaotic outputs, \n",
        "        smaller temperature converges to the single most likely output.\n",
        "        \n",
        "    Be careful with the model output. This model waits logits (not probabilities/log-probabilities)\n",
        "    of the next symbol.\n",
        "    '''\n",
        "    \n",
        "    x_sequence = [token_to_idx[token] for token in seed_phrase]\n",
        "    x_sequence = torch.tensor([x_sequence], dtype=torch.int64)\n",
        "    x_sequence = to_one_hot(x_sequence, len(model.tokens))\n",
        "    x_sequence = torch.from_numpy(x_sequence)\n",
        "    x_sequence.cuda()\n",
        "    hid_state = model.initial_state(batch_size=1)\n",
        "    \n",
        "    chars = [ch for ch in seed_phrase]\n",
        "    for ch in seed_phrase:\n",
        "      char, h = get_char(model, ch, h)\n",
        "    chars.append(char)\n",
        "    \n",
        "    for _ in range(max_length - len(seed_phrase)):\n",
        "        char, h = get_char(model, chars[-1], h)\n",
        "        chars.append(char)\n",
        "    return ''.join(chars)"
      ],
      "execution_count": 16,
      "outputs": []
    },
    {
      "cell_type": "code",
      "metadata": {
        "id": "pvBpSRrmIWVE",
        "colab": {
          "base_uri": "https://localhost:8080/"
        },
        "outputId": "d30c895b-2ce5-46c3-f61c-a54411dfa57c"
      },
      "source": [
        "# An example of generated text.\n",
        "print(generate_sample(500, model, seed_phrase=\"hide my will in thine?\", temperature=0.2))"
      ],
      "execution_count": 17,
      "outputs": [
        {
          "output_type": "stream",
          "text": [
            "hide my will in thine?\n",
            "  un tham hig lay loven mo, prait,\n",
            "  in ip eat dort bu\n",
            "m  far the sam ir prithr igwondgathion thy.\n",
            "\n",
            "  xvivi\n",
            "\n",
            "  o! is in of ree; mo noll mion, acknot in tue llate th yem fios wiit thay tyes'cr, not, and chely dumy dearewi's cce:\n",
            "  aut thak sthonghend s and loves fors, lown's prieds and thee,\n",
            "  thae thoud brust tooks al ;os se riast of co arind-\n",
            " arne, and the towe:\n",
            "  on that baine d heqriende thetswred in thy heruri semingis wagrs of me, whech efares.\n",
            "   of andis,\n",
            "  in chl y\n"
          ],
          "name": "stdout"
        }
      ]
    },
    {
      "cell_type": "markdown",
      "metadata": {
        "id": "C1A58yLE9Udz"
      },
      "source": [
        "Получилось не очень похоже на Шекспира, но всё-таки можно заметить несколько английских слов.  \n",
        "В основном, это короткие слова, сгенерировать имеющее смысл слово длиной более 6 символ сетка не может.  \n",
        "Примечательно, что сетка генерит \"номера\" сонетов.\n"
      ]
    },
    {
      "cell_type": "markdown",
      "metadata": {
        "id": "dERpNOatIWVF"
      },
      "source": [
        "### More poetic model\n",
        "\n",
        "Let's use LSTM instead of vanilla RNN and compare the results."
      ]
    },
    {
      "cell_type": "markdown",
      "metadata": {
        "id": "UTgSvZVoIWVF"
      },
      "source": [
        "Plot the loss function of the number of epochs. Does the final loss become better?"
      ]
    },
    {
      "cell_type": "code",
      "metadata": {
        "collapsed": true,
        "id": "rJL-IMdeIWVF",
        "jupyter": {
          "outputs_hidden": true
        }
      },
      "source": [
        "class LSTM(nn.Module):\n",
        "    def __init__(self, num_tokens=len(tokens), tokens = tokens, hidden_num = 512, layer_num = 1, drop_prob = 0.5):\n",
        "        super(self.__class__,self).__init__()\n",
        "        self.num_layers = layer_num\n",
        "        self.tokens = tokens\n",
        "        self.h_num = hidden_num\n",
        "        self.rnn_update = nn.LSTM(len(tokens), hidden_num, batch_first = True, bidirectional = False)\n",
        "        self.dropout = nn.Dropout(p = drop_prob, inplace = False)\n",
        "        self.final = nn.Linear(hidden_num, len(tokens))\n",
        "        \n",
        "    def forward(self, x, h_prev):\n",
        "        r_out, h_next = self.rnn_update(x, h_prev)\n",
        "        r_out = self.dropout(r_out)\n",
        "        r_out = r_out.contiguous().view(-1, self.h_num)\n",
        "        r_out = self.final(r_out)\n",
        "        return r_out, h_next\n",
        "\n",
        "    def initial_state(self, batch_size):\n",
        "        weight = next(self.parameters()).data\n",
        "        hidden_and_c = (weight.new(self.num_layers, batch_size, self.h_num).zero_(),\n",
        "                    weight.new(self.num_layers, batch_size, self.h_num).zero_())\n",
        "        return hidden_and_c"
      ],
      "execution_count": 18,
      "outputs": []
    },
    {
      "cell_type": "code",
      "metadata": {
        "colab": {
          "base_uri": "https://localhost:8080/"
        },
        "id": "kKFba0Lq9lLP",
        "outputId": "de531cac-ae16-4966-e525-66ed8c6dc9de"
      },
      "source": [
        "lstm = LSTM(tokens)\n",
        "print(lstm)\n",
        "\n",
        "batch_size = 128\n",
        "seq_length = 150\n",
        "n_epochs = 120\n",
        "\n",
        "lstm_train_losses, lstm_val_losses = train(lstm, enc_text, num_epochs=n_epochs, batch_size=batch_size, seq_length=seq_length, l_rate=0.0015)"
      ],
      "execution_count": 20,
      "outputs": [
        {
          "output_type": "stream",
          "text": [
            "LSTM(\n",
            "  (rnn_update): LSTM(38, 512, batch_first=True)\n",
            "  (dropout): Dropout(p=0.5, inplace=False)\n",
            "  (final): Linear(in_features=512, out_features=38, bias=True)\n",
            ")\n",
            "Epoch # 0 Train loss is 3.5373 Validation loss is 3.5897\n",
            "Epoch # 1 Train loss is 3.3003 Validation loss is 3.0519\n",
            "Epoch # 2 Train loss is 3.0690 Validation loss is 3.0583\n",
            "Epoch # 3 Train loss is 3.0513 Validation loss is 3.0046\n",
            "Epoch # 4 Train loss is 2.9959 Validation loss is 2.9681\n",
            "Epoch # 5 Train loss is 2.9816 Validation loss is 2.9681\n",
            "Epoch # 6 Train loss is 2.9759 Validation loss is 2.9584\n",
            "Epoch # 7 Train loss is 2.9650 Validation loss is 2.9536\n",
            "Epoch # 8 Train loss is 2.9609 Validation loss is 2.9516\n",
            "Epoch # 9 Train loss is 2.9577 Validation loss is 2.9481\n",
            "Epoch # 10 Train loss is 2.9535 Validation loss is 2.9443\n",
            "Epoch # 11 Train loss is 2.9503 Validation loss is 2.9414\n",
            "Epoch # 12 Train loss is 2.9482 Validation loss is 2.9383\n",
            "Epoch # 13 Train loss is 2.9431 Validation loss is 2.9346\n",
            "Epoch # 14 Train loss is 2.9403 Validation loss is 2.9304\n",
            "Epoch # 15 Train loss is 2.9349 Validation loss is 2.9254\n",
            "Epoch # 16 Train loss is 2.9290 Validation loss is 2.9189\n",
            "Epoch # 17 Train loss is 2.9231 Validation loss is 2.9107\n",
            "Epoch # 18 Train loss is 2.9143 Validation loss is 2.8998\n",
            "Epoch # 19 Train loss is 2.9018 Validation loss is 2.8856\n",
            "Epoch # 20 Train loss is 2.8864 Validation loss is 2.8660\n",
            "Epoch # 21 Train loss is 2.8659 Validation loss is 2.8401\n",
            "Epoch # 22 Train loss is 2.8383 Validation loss is 2.8232\n",
            "Epoch # 23 Train loss is 2.8149 Validation loss is 2.7786\n",
            "Epoch # 24 Train loss is 2.7716 Validation loss is 2.7315\n",
            "Epoch # 25 Train loss is 2.7293 Validation loss is 2.6823\n",
            "Epoch # 26 Train loss is 2.6829 Validation loss is 2.6311\n",
            "Epoch # 27 Train loss is 2.6843 Validation loss is 2.6260\n",
            "Epoch # 28 Train loss is 2.6656 Validation loss is 2.6178\n",
            "Epoch # 29 Train loss is 2.6264 Validation loss is 2.5880\n",
            "Epoch # 30 Train loss is 2.5892 Validation loss is 2.5402\n",
            "Epoch # 31 Train loss is 2.5459 Validation loss is 2.5006\n",
            "Epoch # 32 Train loss is 2.5070 Validation loss is 2.4587\n",
            "Epoch # 33 Train loss is 2.4704 Validation loss is 2.4224\n",
            "Epoch # 34 Train loss is 2.4436 Validation loss is 2.3944\n",
            "Epoch # 35 Train loss is 2.4123 Validation loss is 2.3682\n",
            "Epoch # 36 Train loss is 2.3832 Validation loss is 2.3462\n",
            "Epoch # 37 Train loss is 2.3643 Validation loss is 2.3203\n",
            "Epoch # 38 Train loss is 2.3378 Validation loss is 2.2970\n",
            "Epoch # 39 Train loss is 2.3178 Validation loss is 2.2966\n",
            "Epoch # 40 Train loss is 2.3434 Validation loss is 2.3151\n",
            "Epoch # 41 Train loss is 2.3202 Validation loss is 2.2849\n",
            "Epoch # 42 Train loss is 2.2982 Validation loss is 2.2576\n",
            "Epoch # 43 Train loss is 2.2763 Validation loss is 2.2389\n",
            "Epoch # 44 Train loss is 2.2551 Validation loss is 2.2238\n",
            "Epoch # 45 Train loss is 2.2404 Validation loss is 2.2042\n",
            "Epoch # 46 Train loss is 2.2239 Validation loss is 2.1907\n",
            "Epoch # 47 Train loss is 2.2067 Validation loss is 2.1747\n",
            "Epoch # 48 Train loss is 2.1928 Validation loss is 2.1618\n",
            "Epoch # 49 Train loss is 2.1958 Validation loss is 2.1636\n",
            "Epoch # 50 Train loss is 2.1866 Validation loss is 2.1507\n",
            "Epoch # 51 Train loss is 2.1700 Validation loss is 2.1413\n",
            "Epoch # 52 Train loss is 2.1570 Validation loss is 2.1314\n",
            "Epoch # 53 Train loss is 2.1441 Validation loss is 2.1184\n",
            "Epoch # 54 Train loss is 2.1319 Validation loss is 2.1061\n",
            "Epoch # 55 Train loss is 2.1213 Validation loss is 2.1007\n",
            "Epoch # 56 Train loss is 2.1107 Validation loss is 2.0925\n",
            "Epoch # 57 Train loss is 2.1007 Validation loss is 2.0841\n",
            "Epoch # 58 Train loss is 2.0995 Validation loss is 2.0810\n",
            "Epoch # 59 Train loss is 2.0873 Validation loss is 2.0748\n",
            "Epoch # 60 Train loss is 2.0794 Validation loss is 2.0662\n",
            "Epoch # 61 Train loss is 2.0686 Validation loss is 2.0574\n",
            "Epoch # 62 Train loss is 2.0620 Validation loss is 2.0505\n",
            "Epoch # 63 Train loss is 2.0541 Validation loss is 2.0455\n",
            "Epoch # 64 Train loss is 2.0568 Validation loss is 2.0406\n",
            "Epoch # 65 Train loss is 2.0439 Validation loss is 2.0377\n",
            "Epoch # 66 Train loss is 2.0338 Validation loss is 2.0259\n",
            "Epoch # 67 Train loss is 2.0246 Validation loss is 2.0192\n",
            "Epoch # 68 Train loss is 2.0174 Validation loss is 2.0173\n",
            "Epoch # 69 Train loss is 2.0092 Validation loss is 2.0096\n",
            "Epoch # 70 Train loss is 2.0016 Validation loss is 2.0063\n",
            "Epoch # 71 Train loss is 1.9922 Validation loss is 1.9909\n",
            "Epoch # 72 Train loss is 1.9845 Validation loss is 2.0196\n",
            "Epoch # 73 Train loss is 2.0151 Validation loss is 1.9979\n",
            "Epoch # 74 Train loss is 1.9946 Validation loss is 1.9940\n",
            "Epoch # 75 Train loss is 1.9850 Validation loss is 1.9885\n",
            "Epoch # 76 Train loss is 1.9733 Validation loss is 1.9775\n",
            "Epoch # 77 Train loss is 1.9644 Validation loss is 1.9750\n",
            "Epoch # 78 Train loss is 1.9608 Validation loss is 1.9695\n",
            "Epoch # 79 Train loss is 1.9479 Validation loss is 1.9620\n",
            "Epoch # 80 Train loss is 1.9428 Validation loss is 1.9590\n",
            "Epoch # 81 Train loss is 1.9371 Validation loss is 1.9543\n",
            "Epoch # 82 Train loss is 1.9296 Validation loss is 1.9483\n",
            "Epoch # 83 Train loss is 1.9220 Validation loss is 1.9421\n",
            "Epoch # 84 Train loss is 1.9168 Validation loss is 1.9373\n",
            "Epoch # 85 Train loss is 1.9095 Validation loss is 1.9316\n",
            "Epoch # 86 Train loss is 1.9014 Validation loss is 1.9278\n",
            "Epoch # 87 Train loss is 1.8936 Validation loss is 1.9210\n",
            "Epoch # 88 Train loss is 1.8879 Validation loss is 1.9237\n",
            "Epoch # 89 Train loss is 1.8964 Validation loss is 1.9187\n",
            "Epoch # 90 Train loss is 1.8846 Validation loss is 1.9141\n",
            "Epoch # 91 Train loss is 1.8754 Validation loss is 1.9100\n",
            "Epoch # 92 Train loss is 1.8656 Validation loss is 1.9051\n",
            "Epoch # 93 Train loss is 1.8630 Validation loss is 1.8986\n",
            "Epoch # 94 Train loss is 1.8538 Validation loss is 1.8919\n",
            "Epoch # 95 Train loss is 1.8443 Validation loss is 1.8866\n",
            "Epoch # 96 Train loss is 1.8438 Validation loss is 1.8853\n",
            "Epoch # 97 Train loss is 1.8352 Validation loss is 1.8784\n",
            "Epoch # 98 Train loss is 1.8265 Validation loss is 1.8755\n",
            "Epoch # 99 Train loss is 1.8159 Validation loss is 1.8688\n",
            "Epoch # 100 Train loss is 1.8105 Validation loss is 1.8658\n",
            "Epoch # 101 Train loss is 1.8056 Validation loss is 1.8632\n",
            "Epoch # 102 Train loss is 1.8008 Validation loss is 1.8589\n",
            "Epoch # 103 Train loss is 1.7927 Validation loss is 1.8553\n",
            "Epoch # 104 Train loss is 1.7875 Validation loss is 1.8525\n",
            "Epoch # 105 Train loss is 1.7816 Validation loss is 1.8501\n",
            "Epoch # 106 Train loss is 1.7745 Validation loss is 1.8468\n",
            "Epoch # 107 Train loss is 1.7675 Validation loss is 1.8497\n",
            "Epoch # 108 Train loss is 1.7642 Validation loss is 1.8425\n",
            "Epoch # 109 Train loss is 1.7544 Validation loss is 1.8404\n",
            "Epoch # 110 Train loss is 1.7511 Validation loss is 1.8398\n",
            "Epoch # 111 Train loss is 1.7477 Validation loss is 1.8369\n",
            "Epoch # 112 Train loss is 1.7423 Validation loss is 1.8417\n",
            "Epoch # 113 Train loss is 1.7353 Validation loss is 1.8376\n",
            "Epoch # 114 Train loss is 1.7293 Validation loss is 1.8328\n",
            "Epoch # 115 Train loss is 1.7238 Validation loss is 1.8335\n",
            "Epoch # 116 Train loss is 1.7159 Validation loss is 1.8321\n",
            "Epoch # 117 Train loss is 1.7100 Validation loss is 1.8245\n",
            "Epoch # 118 Train loss is 1.7049 Validation loss is 1.8241\n",
            "Epoch # 119 Train loss is 1.7041 Validation loss is 1.8291\n"
          ],
          "name": "stdout"
        }
      ]
    },
    {
      "cell_type": "code",
      "metadata": {
        "colab": {
          "base_uri": "https://localhost:8080/",
          "height": 389
        },
        "id": "6HSGnQMG9wKF",
        "outputId": "6036510b-4268-4e98-cda7-f1a1858acfa9"
      },
      "source": [
        "plt.figure(5, figsize = (8, 6))\n",
        "_plot2 = plt.plot(np.linspace(1,n_epochs-1,n_epochs), lstm_train_losses, np.linspace(1,n_epochs-1,n_epochs), lstm_val_losses)\n",
        "plt.legend(_plot2, (\"train loss\", \"validation loss\"))\n",
        "plt.title(\"LSTM train and validation losses\")\n",
        "plt.grid()"
      ],
      "execution_count": 21,
      "outputs": [
        {
          "output_type": "display_data",
          "data": {
            "image/png": "[encoded data removed]",
            "text/plain": [
              "<Figure size 576x432 with 1 Axes>"
            ]
          },
          "metadata": {
            "tags": [],
            "needs_background": "light"
          }
        }
      ]
    },
    {
      "cell_type": "markdown",
      "metadata": {
        "id": "HbrICCJw9z2d"
      },
      "source": [
        "Финальный loss стал лучше"
      ]
    },
    {
      "cell_type": "markdown",
      "metadata": {
        "id": "NvV6PQjYIWVG"
      },
      "source": [
        "Generate text using the trained net with different `temperature` parameter: `[0.1, 0.2, 0.5, 1.0, 2.0]`.\n",
        "\n",
        "Evaluate the results visually, try to interpret them."
      ]
    },
    {
      "cell_type": "code",
      "metadata": {
        "collapsed": true,
        "id": "UiCiJ_TmIWVG",
        "jupyter": {
          "outputs_hidden": true
        },
        "colab": {
          "base_uri": "https://localhost:8080/"
        },
        "outputId": "d317318c-296e-4d0d-eeb8-4d001bf0d910"
      },
      "source": [
        "temperatures = [0.1, 0.2, 0.5, 1.0, 2.0]\n",
        "for temp in temperatures:\n",
        "  print(\"Generating text for temperature \", temp)\n",
        "  print(\"=============================================\")\n",
        "  print(generate_sample(500, lstm, seed_phrase=\"hide my will in thine?\", temperature=temp))\n",
        "  print(\"=============================================\")"
      ],
      "execution_count": 23,
      "outputs": [
        {
          "output_type": "stream",
          "text": [
            "Generating text for temperature  0.1\n",
            "=============================================\n",
            "hide my will in thine?\n",
            "  the shares ow ougs cinis if um shasu,\n",
            "   sail the than mecins fortese tome himeg in now.\n",
            "\n",
            "  lxiv\n",
            "\n",
            "  o! that make concee, whet ir hom preewhtr.\n",
            "  g act what sowel- ull my peant night\n",
            "  my kent ro doun you worth tree,\n",
            "  and hith, omy so mond enot troungre.\n",
            "  ' hin mo pat ans thy greas rneis do that to of, comseed,\n",
            "  and follengawe tu me covment anke:\n",
            "  that opsbent be firls wher berachea owe mwild show dithst do fros, and the efriks af exprick of my tliok:\n",
            "    feaf yor ay m\n",
            "=============================================\n",
            "Generating text for temperature  0.2\n",
            "=============================================\n",
            "hide my will in thine?\n",
            "  o! mean\n",
            "  as thay mekl me when eanti gre.\n",
            "   -\n",
            "' recver at shad con.\n",
            "'  ives proast shate in yes of your foor,\n",
            "  cleod'd, ah the sertint this thee cenvand fart of your fies hichs eofer,\n",
            "  on the dist be to artever  cons in the irses.\n",
            "  o but in nhis love o thy love with tase-\n",
            "  the yet the wror sepman, lover enrelfor whale enam'd,\n",
            "  pand if th forrowist whes im lase, to thie porets eades hay roth,\n",
            "  o jenter the tiphty starus evenme to by mo,, frat frastebshin  thou peadn\n",
            "=============================================\n",
            "Generating text for temperature  0.5\n",
            "=============================================\n",
            "hide my will in thine?\n",
            "  sores fio dond dis ir nyoue sumped,\n",
            "  than yeh feot bereth to thee thy wist thou briigll,\n",
            "  thas ar  han shillfot fasres'd?\n",
            "  shones an mine by pride's mane at o nver'd telspar's formest fait magringnest the btof,\n",
            "    and thou art sthor comt wordits that, the plre,\n",
            "  wnode romein mefey sichte,sy tout forthough whece my seasl the wark norek cliul, they iif, in mi ttiing burisgld of you my dowr dedest in the canctave iive,\n",
            "   like anjyaty, fot fof nst dome por'e;\n",
            "  the coma\n",
            "=============================================\n",
            "Generating text for temperature  1.0\n",
            "=============================================\n",
            "hide my will in thine?\n",
            "  ave iens vers now the so doum ay;\n",
            "  then is me mer ablte that rithat wounde shy lowk ne myspxtei\n",
            "  in mine wot the uroullt of asen in men.\n",
            "  b authst in thou then thou brese of love, doth tobe,\n",
            "    on congear what thel shire, me dad s me my why thy taye?\n",
            "   wazing thin sendore thin sagh, and dit, my love; worls ir helf concaud dott my sank,\n",
            "  i illot rank witl taknein less dees mile bees,\n",
            "  i  cante thie dast poagith not the stoonf ado aoks do thear,\n",
            "  thas is hich my som\n",
            "=============================================\n",
            "Generating text for temperature  2.0\n",
            "=============================================\n",
            "hide my will in thine?\n",
            "  sors a lo duth bedter is thap that thes,\n",
            "  that thou has ask my is ne medsuln that prad\n",
            "  which to make when hiveres nates ano sme;\n",
            "  r mind it the sarp thou death shill glans'd fremb,\n",
            "  and crintter's frich yours why ands cay of lodg samert.\n",
            "  and pracers and brante tweed, invehtu yep reip siefle.\n",
            "  the ere ow ounst they spant stees un het,\n",
            "  wis not th ur iver ill theis are tayse\n",
            "  agfosd thougath the spap:\n",
            "  in fouth that thee, sillmoun bul calt,\n",
            "  o! gram's monher sag\n",
            "=============================================\n"
          ],
          "name": "stdout"
        }
      ]
    },
    {
      "cell_type": "markdown",
      "metadata": {
        "id": "Lp9MIdl8-Gab"
      },
      "source": [
        "В целом заметно лучше, чем RNN.\n",
        "Теперь строчки примерно одинаковой длины, у RNN с этим была беда.  \n",
        "Подавляющее большинство слов хотя бы выглядят как анлгийские, при T <= 1.0 очень много имеющих смысл слов.  \n",
        "При увеличении температуры появляется больше непонятных комбинаций букв.  \n",
        "Конечно, до полноценных стихов далеко: нет ни смысла, ни рифмы.\n",
        "Думаю, что для того, чтобы сетка научилась рифмовать, нужно, чтобы seq_length был порядка трех-четырех строк в исходном тексте. Еще можно заметить, что слегка переобученная модель генерирует более человекоподобные тексты. И это понятно: когда модель переобучается, то она скорее выдает цитаты, чем генерирует что-то своё."
      ]
    },
    {
      "cell_type": "markdown",
      "metadata": {
        "id": "XL-xTNlCIWVG"
      },
      "source": [
        "### Saving and loading models"
      ]
    },
    {
      "cell_type": "markdown",
      "metadata": {
        "id": "ZfXEpJRWIWVG"
      },
      "source": [
        "Save the model to the disk, then load it and generate text. Examples are available [here](https://pytorch.org/tutorials/beginner/saving_loading_models.html])."
      ]
    },
    {
      "cell_type": "code",
      "metadata": {
        "collapsed": true,
        "id": "FSG9Di-iIWVG",
        "jupyter": {
          "outputs_hidden": true
        },
        "colab": {
          "base_uri": "https://localhost:8080/"
        },
        "outputId": "08fb018f-1c1a-4a94-f599-f33075df0d78"
      },
      "source": [
        "from google.colab import drive\n",
        "drive.mount('/content/gdrive')"
      ],
      "execution_count": 24,
      "outputs": [
        {
          "output_type": "stream",
          "text": [
            "Mounted at /content/gdrive\n"
          ],
          "name": "stdout"
        }
      ]
    },
    {
      "cell_type": "code",
      "metadata": {
        "colab": {
          "base_uri": "https://localhost:8080/",
          "height": 34
        },
        "id": "IPtbYo_HLdjB",
        "outputId": "b6947d1e-fd28-4989-d827-f3d0fff65906"
      },
      "source": [
        "%pwd"
      ],
      "execution_count": 25,
      "outputs": [
        {
          "output_type": "execute_result",
          "data": {
            "application/vnd.google.colaboratory.intrinsic+json": {
              "type": "string"
            },
            "text/plain": [
              "'/content'"
            ]
          },
          "metadata": {
            "tags": []
          },
          "execution_count": 25
        }
      ]
    },
    {
      "cell_type": "code",
      "metadata": {
        "id": "ALaRTDB8LbDQ"
      },
      "source": [
        "MODEL_PATH = \"/content/gdrive/My Drive/мл лаба2/мое/LSTM_Shakespear.pt\"\n",
        "\n",
        "torch.save(lstm.state_dict(), MODEL_PATH)"
      ],
      "execution_count": null,
      "outputs": []
    },
    {
      "cell_type": "code",
      "metadata": {
        "colab": {
          "base_uri": "https://localhost:8080/"
        },
        "id": "lNdG0LL7MIxu",
        "outputId": "71674f7a-8c61-4033-b9ea-72dfca2f7df1"
      },
      "source": [
        "loaded_lstm = LSTM(tokens)\n",
        "loaded_lstm.load_state_dict(torch.load(MODEL_PATH))\n",
        "loaded_lstm.eval()\n",
        "loaded_lstm.to(device)\n",
        "\n",
        "print(generate_sample(500, loaded_lstm, seed_phrase=\"hide my will in thine?\", temperature=0.5))"
      ],
      "execution_count": null,
      "outputs": [
        {
          "output_type": "stream",
          "text": [
            "hide my will in thine?\n",
            "   hehe velimy touftee: a makile the  bork:\n",
            "  bo see, nit se and thin which forof ot me.\n",
            "    thes wor fors respop't at beauty groshlight;\n",
            "  thim siilds anver's wich maryoi lovely sare,\n",
            "  shere or those lode ublighto solf deir mite,\n",
            "   han with pridut)st of my somi-keod duth eils me.\n",
            "   lewers in the hinry my meromy call deere.\n",
            "  k weiine may theiuday as doth my grows\n",
            "  to ceart, though fay torceevandelt;\n",
            "  and for thy brait\n",
            "  that i hal dy be dost is is al, than thee.\n",
            "  a d\n"
          ],
          "name": "stdout"
        }
      ]
    },
    {
      "cell_type": "markdown",
      "metadata": {
        "id": "cokCWvX0IWVH"
      },
      "source": [
        "### References\n",
        "1. <a href='http://karpathy.github.io/2015/05/21/rnn-effectiveness/'> Andrew Karpathy blog post about RNN. </a> \n",
        "There are several examples of genration: Shakespeare texts, Latex formulas, Linux Sourse Code and children names.\n",
        "2. <a href='https://github.com/karpathy/char-rnn'> Repo with char-rnn code </a>\n",
        "3. Cool repo with PyTorch examples: [link](https://github.com/spro/practical-pytorch`)"
      ]
    }
  ]
}